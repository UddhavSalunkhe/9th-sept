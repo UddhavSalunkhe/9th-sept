{
 "cells": [
  {
   "cell_type": "code",
   "execution_count": null,
   "id": "43fe7e2e-c910-4fe5-ab43-bfcf94c37a08",
   "metadata": {},
   "outputs": [],
   "source": [
    "1. Write a Python program to check if a given number is positive or negative."
   ]
  },
  {
   "cell_type": "code",
   "execution_count": 11,
   "id": "809da410-1f53-4df5-89fc-5f05e6927dc9",
   "metadata": {},
   "outputs": [
    {
     "name": "stdout",
     "output_type": "stream",
     "text": [
      "Positive Number...\n"
     ]
    }
   ],
   "source": [
    "no = 10\n",
    "if no > 0:\n",
    "    print('Positive Number...')\n",
    "else:\n",
    "    print('Negative Number...')"
   ]
  },
  {
   "cell_type": "code",
   "execution_count": null,
   "id": "a5773246-98ed-42d8-b06e-0c2dfef209b0",
   "metadata": {},
   "outputs": [],
   "source": [
    "2. Create a program that determines if a person is eligible to vote based on their age."
   ]
  },
  {
   "cell_type": "code",
   "execution_count": 15,
   "id": "b99d3bee-a481-434d-82c6-66fd4012eaa5",
   "metadata": {},
   "outputs": [
    {
     "name": "stdout",
     "output_type": "stream",
     "text": [
      "Eligible for voting.....\n"
     ]
    }
   ],
   "source": [
    "age = 18\n",
    "if age >= 18:\n",
    "    print('Eligible for voting.....')\n",
    "else:\n",
    "    print('Not eligible for voting.....')"
   ]
  },
  {
   "cell_type": "code",
   "execution_count": null,
   "id": "00466e3f-55f2-4530-a8d6-0eaba93d3fc8",
   "metadata": {},
   "outputs": [],
   "source": [
    "3. Develop a program to find the maximum of two numbers using if-else statements."
   ]
  },
  {
   "cell_type": "code",
   "execution_count": 17,
   "id": "8256d181-381d-4185-bad9-038f68c39100",
   "metadata": {},
   "outputs": [
    {
     "name": "stdout",
     "output_type": "stream",
     "text": [
      "Maximum no=  50\n"
     ]
    }
   ],
   "source": [
    "no1 = 50\n",
    "no2 = 6\n",
    "if no1 >= no2:\n",
    "    print('Maximum no= ',no1)\n",
    "else:\n",
    "    print('Maximum no= ',no2)"
   ]
  },
  {
   "cell_type": "code",
   "execution_count": null,
   "id": "f544dd26-50ba-40a1-9c7b-441fd53a84c4",
   "metadata": {},
   "outputs": [],
   "source": [
    "4. Write a Python script to classify a given year as a leap year or not."
   ]
  },
  {
   "cell_type": "code",
   "execution_count": 19,
   "id": "d7eed703-7b29-4078-8fee-8d67523eaad1",
   "metadata": {},
   "outputs": [
    {
     "name": "stdout",
     "output_type": "stream",
     "text": [
      "Given year is leap year...\n"
     ]
    }
   ],
   "source": [
    "year =2000\n",
    "if year % 4 ==0:\n",
    "    print('Given year is leap year...')\n",
    "else:\n",
    "    print('Given year is not leap year...')"
   ]
  },
  {
   "cell_type": "code",
   "execution_count": null,
   "id": "3b97ff8c-813c-4807-813d-8a099650b5f0",
   "metadata": {},
   "outputs": [],
   "source": [
    "5. Create a program that checks whether a character is a vowel or a consonant."
   ]
  },
  {
   "cell_type": "code",
   "execution_count": 22,
   "id": "f91052ed-cd78-4b59-8288-4c35f8a57580",
   "metadata": {},
   "outputs": [
    {
     "name": "stdout",
     "output_type": "stream",
     "text": [
      "It is vowel...\n"
     ]
    }
   ],
   "source": [
    "character = 'A'\n",
    "vowels ='aeiouAEIOU'\n",
    "if character in vowels:\n",
    "    print('It is vowel...')\n",
    "else:\n",
    "    print('It is consonant...')"
   ]
  },
  {
   "cell_type": "code",
   "execution_count": null,
   "id": "8f6e26c1-779d-409c-8b1b-37c17ed1ef6d",
   "metadata": {},
   "outputs": [],
   "source": [
    "6. Implement a program to determine whether a given number is even or odd."
   ]
  },
  {
   "cell_type": "code",
   "execution_count": 24,
   "id": "82f5ae5f-c9c7-4d33-aeac-383624460e86",
   "metadata": {},
   "outputs": [
    {
     "name": "stdout",
     "output_type": "stream",
     "text": [
      "Given number is odd...\n"
     ]
    }
   ],
   "source": [
    "no = 11\n",
    "if no % 2 == 0:\n",
    "    print('Given number is even...')\n",
    "else:\n",
    "    print('Given number is odd...')"
   ]
  },
  {
   "cell_type": "code",
   "execution_count": null,
   "id": "741927d8-b2ce-42b6-a72f-0e938c17799e",
   "metadata": {},
   "outputs": [],
   "source": [
    "7. Write a Python function to calculate the absolute value of a number without using the `abs()` function."
   ]
  },
  {
   "cell_type": "code",
   "execution_count": 34,
   "id": "0373821b-8f54-4077-8557-7c71af4f801e",
   "metadata": {},
   "outputs": [],
   "source": [
    "def my_abs(value):\n",
    "    if value >= 0:\n",
    "        return value\n",
    "    else:\n",
    "        return -value"
   ]
  },
  {
   "cell_type": "code",
   "execution_count": 37,
   "id": "715f7b35-0a2c-4c3d-8762-62b83f154eb9",
   "metadata": {},
   "outputs": [
    {
     "data": {
      "text/plain": [
       "0"
      ]
     },
     "execution_count": 37,
     "metadata": {},
     "output_type": "execute_result"
    }
   ],
   "source": [
    "my_abs(0)"
   ]
  },
  {
   "cell_type": "code",
   "execution_count": null,
   "id": "8c16737e-1881-4105-9791-1b6a52a4cab2",
   "metadata": {},
   "outputs": [],
   "source": [
    "8. Develop a program that determines the largest of three given numbers using if-else statements."
   ]
  },
  {
   "cell_type": "code",
   "execution_count": 48,
   "id": "b0a7620f-4dd6-4853-af24-9153d3d895f1",
   "metadata": {},
   "outputs": [
    {
     "name": "stdout",
     "output_type": "stream",
     "text": [
      "10000\n"
     ]
    }
   ],
   "source": [
    "no1 = 5000\n",
    "no2 = 600\n",
    "no3 = 10000\n",
    "if no1 > no2 and no1 > no3:\n",
    "    print(no1)\n",
    "elif no2 > no3 and no2 > no1:\n",
    "    print(no2)\n",
    "else:\n",
    "    print(no3)"
   ]
  },
  {
   "cell_type": "code",
   "execution_count": null,
   "id": "d29c81bb-1e2f-4b87-9f45-c1d7b57540b0",
   "metadata": {},
   "outputs": [],
   "source": [
    "9. Create a program that checks if a given string is a palindrome."
   ]
  },
  {
   "cell_type": "code",
   "execution_count": 51,
   "id": "ca67554c-cc9f-4d83-b999-d748f1a77745",
   "metadata": {},
   "outputs": [
    {
     "name": "stdout",
     "output_type": "stream",
     "text": [
      "String is palindrome...\n"
     ]
    }
   ],
   "source": [
    "string = 'racecar'\n",
    "if string == string[::-1]:\n",
    "    print('String is palindrome...')\n",
    "else:\n",
    "    print('String is not palindrome...')"
   ]
  },
  {
   "cell_type": "code",
   "execution_count": null,
   "id": "dc306c7e-1d6a-44cd-93c0-97a05dbbc135",
   "metadata": {},
   "outputs": [],
   "source": [
    "10. Write a Python program to calculate the grade based on a student's score."
   ]
  },
  {
   "cell_type": "code",
   "execution_count": 58,
   "id": "9a8b8672-e382-41ed-bb00-8a0a3c8cb748",
   "metadata": {},
   "outputs": [
    {
     "name": "stdout",
     "output_type": "stream",
     "text": [
      "B+ Grade...\n"
     ]
    }
   ],
   "source": [
    "marks = 85\n",
    "if marks >= 90 and marks <=100:\n",
    "    print('A+ Grade...')\n",
    "elif marks >=75:\n",
    "    print('B+ Grade...')\n",
    "elif marks >=50:\n",
    "    print('C+ Grade...')\n",
    "elif marks >=35:\n",
    "    print('pass only...')\n",
    "else:\n",
    "    print('Fail...')"
   ]
  },
  {
   "cell_type": "code",
   "execution_count": null,
   "id": "370173cb-f029-499e-b402-49b2330db253",
   "metadata": {},
   "outputs": [],
   "source": [
    "11. Write a program to find the largest among three numbers using nested if-else statements."
   ]
  },
  {
   "cell_type": "code",
   "execution_count": 1,
   "id": "3908ab56-9f9b-4507-a5a3-dc39975fb56e",
   "metadata": {},
   "outputs": [
    {
     "name": "stdout",
     "output_type": "stream",
     "text": [
      "300000\n"
     ]
    }
   ],
   "source": [
    "no1 = 1000\n",
    "no2 = 200\n",
    "no3 = 300000\n",
    "if no1 > no2:\n",
    "    if no1 > no3:\n",
    "        print(no1)\n",
    "    else:\n",
    "        print(no3)\n",
    "else:\n",
    "    if no2 > no1:\n",
    "        print(no2)\n",
    "    else:\n",
    "        print(no2)"
   ]
  },
  {
   "cell_type": "code",
   "execution_count": null,
   "id": "2b19f66b-eb65-4485-a084-757220f579d0",
   "metadata": {},
   "outputs": [],
   "source": [
    "12. Implement a program to determine if a triangle is equilateral, isosceles, or scalene."
   ]
  },
  {
   "cell_type": "code",
   "execution_count": 14,
   "id": "04701879-5e14-4823-9aec-561e95e88ed4",
   "metadata": {},
   "outputs": [
    {
     "name": "stdout",
     "output_type": "stream",
     "text": [
      "Scalene Triangle\n"
     ]
    }
   ],
   "source": [
    "side1 = 132\n",
    "side2 = 12\n",
    "side3 = 13\n",
    "if side1 == side2 == side3:\n",
    "    print('Equlateral Triangle...')\n",
    "elif side1 == side2 or side2 == side3 or side1 == side3:\n",
    "    print('Isosceles Triangle...')\n",
    "else:\n",
    "    print('Scalene Triangle')"
   ]
  },
  {
   "cell_type": "code",
   "execution_count": null,
   "id": "0508ddbc-21a2-4b2b-ae9d-d462e00f62b6",
   "metadata": {},
   "outputs": [],
   "source": [
    "13. Develop a program that checks if a year is a leap year and also if it is a century year."
   ]
  },
  {
   "cell_type": "code",
   "execution_count": 22,
   "id": "fa2843dc-c68f-45b4-8f01-c42ab780a405",
   "metadata": {},
   "outputs": [
    {
     "name": "stdout",
     "output_type": "stream",
     "text": [
      "It is not leap year...\n"
     ]
    }
   ],
   "source": [
    "year = 21\n",
    "if year % 4 == 0 and year %100 == 0:\n",
    "    print('Year is leap year and it is a century year...')\n",
    "elif year % 4 ==0:\n",
    "    print('Year is leap year and it is not century year...') \n",
    "else:\n",
    "    print('It is not leap year...')"
   ]
  },
  {
   "cell_type": "code",
   "execution_count": null,
   "id": "1898c064-a304-458b-bf3f-edb2804a3e4f",
   "metadata": {},
   "outputs": [],
   "source": [
    "14. Write a Python script to determine if a number is positive, negative, or zero."
   ]
  },
  {
   "cell_type": "code",
   "execution_count": 3,
   "id": "96a91c60-e859-47ad-86ac-1c08c169795d",
   "metadata": {},
   "outputs": [
    {
     "name": "stdout",
     "output_type": "stream",
     "text": [
      "Number is negative...\n"
     ]
    }
   ],
   "source": [
    "no = -2\n",
    "if no == 0:\n",
    "    print(\"Number is zero...\")\n",
    "elif no > 0:\n",
    "    print('Number is positive...')\n",
    "else:\n",
    "    print('Number is negative...')"
   ]
  },
  {
   "cell_type": "code",
   "execution_count": null,
   "id": "8912bd3b-53d7-4069-8b62-4f612d183e9a",
   "metadata": {},
   "outputs": [],
   "source": [
    "15. Create a program to check if a person is a teenager (between 13 and 19 years old)."
   ]
  },
  {
   "cell_type": "code",
   "execution_count": 10,
   "id": "cd78ea3e-98d9-4c18-bd55-45ebaa0df8e8",
   "metadata": {},
   "outputs": [
    {
     "name": "stdout",
     "output_type": "stream",
     "text": [
      "Person is teenager...\n"
     ]
    }
   ],
   "source": [
    "age = 19\n",
    "if 13 <= age <=19:\n",
    "    print('Person is teenager...')\n",
    "else:\n",
    "    print('Person is not teenager...')"
   ]
  },
  {
   "cell_type": "code",
   "execution_count": null,
   "id": "1abf517d-648e-4cfe-af96-a8a9469cc047",
   "metadata": {},
   "outputs": [],
   "source": [
    "16. Develop a program that determines the type of angle based on its measure (acute, obtuse, or right)."
   ]
  },
  {
   "cell_type": "code",
   "execution_count": 4,
   "id": "2e57539e-5570-41c8-9fbe-39ffc899f0d7",
   "metadata": {},
   "outputs": [
    {
     "name": "stdin",
     "output_type": "stream",
     "text": [
      "Enter a angle:  90\n"
     ]
    },
    {
     "name": "stdout",
     "output_type": "stream",
     "text": [
      "Right angle...\n"
     ]
    }
   ],
   "source": [
    "angle = int(input('Enter a angle: '))\n",
    "if angle <= 0 or angle >=180:\n",
    "    print('Invalid angle...')\n",
    "elif angle == 90:\n",
    "    print('Right angle...')\n",
    "elif angle > 90:\n",
    "    print('Obtuse angle...')\n",
    "else:\n",
    "    print('Acute angle...')"
   ]
  },
  {
   "cell_type": "code",
   "execution_count": null,
   "id": "451e2717-ed34-4b3f-9931-0550594bf442",
   "metadata": {},
   "outputs": [],
   "source": [
    "18. Implement a program to determine the day of the week based on a user-provided number (1 for Monday, 2\n",
    "for Tuesday, etc.)."
   ]
  },
  {
   "cell_type": "code",
   "execution_count": 7,
   "id": "cd28e016-a7b8-428f-af9b-add2443717c0",
   "metadata": {},
   "outputs": [
    {
     "name": "stdin",
     "output_type": "stream",
     "text": [
      "Enter the no of day in between (1 to 7) 4\n"
     ]
    },
    {
     "name": "stdout",
     "output_type": "stream",
     "text": [
      "Wednesday...\n"
     ]
    }
   ],
   "source": [
    "number = int(input('Enter the no of day in between (1 to 7)'))\n",
    "if number == 1:\n",
    "    print('Sunday...')\n",
    "elif number == 2:\n",
    "    print('Monday...')\n",
    "elif number == 3:\n",
    "    print('Tuesday...')\n",
    "elif number == 4:\n",
    "    print('Wednesday...')\n",
    "elif number == 5:\n",
    "    print('Thursday...')\n",
    "elif number == 6:\n",
    "    print('Friday...')\n",
    "elif number == 7:\n",
    "    print('Saturday...')\n",
    "else:\n",
    "    print('Invalid Input...')"
   ]
  },
  {
   "cell_type": "code",
   "execution_count": null,
   "id": "7a86997a-45f3-4748-a075-ec78f5129bf1",
   "metadata": {},
   "outputs": [],
   "source": [
    "19. Create a program that determines if a year is a leap year and also if it is evenly divisible by 400."
   ]
  },
  {
   "cell_type": "code",
   "execution_count": 10,
   "id": "44923ecf-f14c-443d-9f75-9360f2fe822e",
   "metadata": {},
   "outputs": [
    {
     "name": "stdin",
     "output_type": "stream",
     "text": [
      "Enter the year:  400\n"
     ]
    },
    {
     "name": "stdout",
     "output_type": "stream",
     "text": [
      "Year is leap year and also it is divided by 400...\n"
     ]
    }
   ],
   "source": [
    "year = int(input('Enter the year: '))\n",
    "if year % 400 == 0:\n",
    "    print('Year is leap year and also it is divided by 400...')\n",
    "elif year % 4 == 0:\n",
    "    print('Year is leap but not divided by 400...')\n",
    "else:\n",
    "    print('Year is not leap year...')"
   ]
  },
  {
   "cell_type": "code",
   "execution_count": null,
   "id": "c3628999-ba2b-4682-bec1-fed282d5902b",
   "metadata": {},
   "outputs": [],
   "source": [
    "20. Develop a program that checks if a given number is prime or not using nested if-else statements."
   ]
  },
  {
   "cell_type": "code",
   "execution_count": null,
   "id": "5c6284a0-7412-4f84-bd82-272f58e52380",
   "metadata": {},
   "outputs": [],
   "source": []
  },
  {
   "cell_type": "code",
   "execution_count": null,
   "id": "4c79c0f6-eef6-4a0c-8f0e-6aba16209a1b",
   "metadata": {},
   "outputs": [],
   "source": [
    "21. Write a Python program to assign grades based on different ranges of scores using elif statements."
   ]
  },
  {
   "cell_type": "code",
   "execution_count": 15,
   "id": "33ee51b4-7c96-447c-a581-bb75912d154c",
   "metadata": {},
   "outputs": [
    {
     "name": "stdin",
     "output_type": "stream",
     "text": [
      "Input the score:  33\n"
     ]
    },
    {
     "name": "stdout",
     "output_type": "stream",
     "text": [
      "Fail...\n"
     ]
    }
   ],
   "source": [
    "score = int (input('Input the score: '))\n",
    "if score <= 100 and score >=80:\n",
    "    print('Grade A+...')\n",
    "elif score < 80 and score >=60:\n",
    "    print('Grade B+...')\n",
    "elif score < 60 and score >=35:\n",
    "    print('Grade C +...')\n",
    "else:\n",
    "    print(\"Fail...\")"
   ]
  },
  {
   "cell_type": "code",
   "execution_count": null,
   "id": "0c005da7-0bf6-4229-a35a-65d5fbe3e562",
   "metadata": {},
   "outputs": [],
   "source": [
    "22. Implement a program to determine the type of a triangle based on its angles."
   ]
  },
  {
   "cell_type": "code",
   "execution_count": 19,
   "id": "14dcb488-ada4-44b7-acc1-ea21a2c38e8a",
   "metadata": {},
   "outputs": [
    {
     "name": "stdout",
     "output_type": "stream",
     "text": [
      "Obtuse Triangle...\n"
     ]
    }
   ],
   "source": [
    "angle1 = 100\n",
    "angle2 = 45\n",
    "angle3 = 45\n",
    "if angle1 ==90 or angle2 ==90 or angle3 ==90:\n",
    "    print('Right Angle Triangle...')\n",
    "elif angle1 >90 or angle2 >90 or angle3 >90:\n",
    "    print('Obtuse Triangle...')\n",
    "else:\n",
    "    print('Acute Triangle...')"
   ]
  },
  {
   "cell_type": "code",
   "execution_count": null,
   "id": "f1c4e118-15d9-4735-9b22-99f021a7ad5c",
   "metadata": {},
   "outputs": [],
   "source": [
    "23. Develop a program to categorize a given person's BMI into underweight, normal, overweight, or obese using\n",
    "elif statements."
   ]
  },
  {
   "cell_type": "code",
   "execution_count": 22,
   "id": "2369d056-5c8a-4154-adf8-be9b146f482c",
   "metadata": {},
   "outputs": [
    {
     "name": "stdin",
     "output_type": "stream",
     "text": [
      "Enter a weight:  100\n"
     ]
    },
    {
     "name": "stdout",
     "output_type": "stream",
     "text": [
      "Overweight...\n"
     ]
    }
   ],
   "source": [
    "weight = int(input('Enter a weight: '))\n",
    "wt = 80\n",
    "if weight == wt:\n",
    "    print('Normal weight...')\n",
    "elif weight > wt:\n",
    "    print('Overweight...')\n",
    "else:\n",
    "    print('Underweight...')"
   ]
  },
  {
   "cell_type": "code",
   "execution_count": null,
   "id": "c44a57a0-73cf-43db-96e7-2f61772b5698",
   "metadata": {},
   "outputs": [],
   "source": [
    "24. Create a program that determines whether a given number is positive, negative, or zero using elif\n",
    "statements."
   ]
  },
  {
   "cell_type": "code",
   "execution_count": 25,
   "id": "f9477564-96a3-4731-adb3-38532b6e408e",
   "metadata": {},
   "outputs": [
    {
     "name": "stdin",
     "output_type": "stream",
     "text": [
      "Enter any number:  10\n"
     ]
    },
    {
     "name": "stdout",
     "output_type": "stream",
     "text": [
      "Number is positive...\n"
     ]
    }
   ],
   "source": [
    "number = int(input('Enter any number: '))\n",
    "if number == 0:\n",
    "    print(\"Number is Zero...\")\n",
    "elif number > 0:\n",
    "    print(\"Number is positive...\")\n",
    "else:\n",
    "    print('Number is negative...')"
   ]
  },
  {
   "cell_type": "code",
   "execution_count": null,
   "id": "747d36fd-c84b-4456-b8b7-db4105e9fe54",
   "metadata": {},
   "outputs": [],
   "source": [
    "25. Write a Python script to determine the type of a character (uppercase, lowercase, or special) using elif\n",
    "statements."
   ]
  },
  {
   "cell_type": "code",
   "execution_count": 33,
   "id": "3f3fa579-0111-416a-be43-1cc797ce8024",
   "metadata": {},
   "outputs": [
    {
     "name": "stdout",
     "output_type": "stream",
     "text": [
      "It is special...\n"
     ]
    }
   ],
   "source": [
    "character = '@'\n",
    "if character.isupper():\n",
    "    print(\"Uppercase character...\")\n",
    "elif character.islower():\n",
    "    print('Lowercase character...')\n",
    "else:\n",
    "    print('It is special...')"
   ]
  },
  {
   "cell_type": "code",
   "execution_count": null,
   "id": "19335b5e-294b-4a70-a0ca-91de1f912751",
   "metadata": {},
   "outputs": [],
   "source": [
    "26. Implement a program to calculate the discounted price based on different purchase amounts using elif\n",
    "statements."
   ]
  },
  {
   "cell_type": "code",
   "execution_count": 44,
   "id": "04997bc0-6ff2-416f-baee-c7943162b70f",
   "metadata": {},
   "outputs": [
    {
     "name": "stdout",
     "output_type": "stream",
     "text": [
      "price=  2500\n",
      "Discount amount=  625.0\n",
      "Payable Amount=  1875.0\n"
     ]
    }
   ],
   "source": [
    "purchase_amt = 2500\n",
    "if purchase_amt >=5000:\n",
    "    print('price= ',purchase_amt)\n",
    "    dis_amount = 50\n",
    "    dis = (purchase_amt * dis_amount)/100\n",
    "    print('Discount amount= ',dis)\n",
    "    total = purchase_amt - dis\n",
    "    print('Payable Amount= ',total)\n",
    "elif purchase_amt >2000:\n",
    "    print('price= ',purchase_amt)\n",
    "    dis_amount = 25\n",
    "    dis = (purchase_amt *dis_amount)/100   \n",
    "    print('Discount amount= ',dis)\n",
    "    total = purchase_amt - dis\n",
    "    print('Payable Amount= ',total)\n",
    "elif purchase_amt > 700:\n",
    "    print('price= ',purchase_amt)\n",
    "    dis_amount = 10\n",
    "    dis = (purchase_amt * dis_amount)/100\n",
    "    print('Discount amount= ',dis)\n",
    "    total = purchase_amt - dis\n",
    "    print('Payable Amount= ',total)\n",
    "else:\n",
    "    print('No disciunt payable amount= ',purchase_amt)"
   ]
  },
  {
   "cell_type": "code",
   "execution_count": null,
   "id": "02eb2502-ec36-4351-87a3-f9a59f171db2",
   "metadata": {},
   "outputs": [],
   "source": [
    "27. Develop a program to calculate the electricity bill based on different consumption slabs using elif\n",
    "statements."
   ]
  },
  {
   "cell_type": "code",
   "execution_count": 47,
   "id": "784b8bb9-daa7-447d-8fe3-fd48cf2fc620",
   "metadata": {},
   "outputs": [
    {
     "name": "stdin",
     "output_type": "stream",
     "text": [
      "Enter the consumption electricity unit:  300\n"
     ]
    },
    {
     "name": "stdout",
     "output_type": "stream",
     "text": [
      "Total bill=  2200\n"
     ]
    }
   ],
   "source": [
    "unit = int (input('Enter the consumption electricity unit: '))\n",
    "min_charge = 100\n",
    "if unit > 0:\n",
    "    if unit <100 and unit > 0:\n",
    "        rate = 3\n",
    "        charges = unit * rate + min_charge\n",
    "        print('Total bill= ',charges)\n",
    "    elif unit <250 and unit >=100:\n",
    "        rate = 5\n",
    "        charges = unit * rate + min_charge\n",
    "        print('Total bill= ',charges)\n",
    "    elif unit <500 and unit >=250:\n",
    "        rate = 7\n",
    "        charges = unit * rate + min_charge\n",
    "        print('Total bill= ',charges)\n",
    "    else:\n",
    "        rate = 10\n",
    "        charges = unit * rate + min_charge\n",
    "        print('Total bill= ',charges)\n",
    "else:\n",
    "    print('Enter Correct Unit')"
   ]
  },
  {
   "cell_type": "code",
   "execution_count": null,
   "id": "f5414bea-8b6c-4bc5-958b-f4036b9677cf",
   "metadata": {},
   "outputs": [],
   "source": [
    "28. Create a program to determine the type of quadrilateral based on its angles and sides using elif\n",
    "statements."
   ]
  },
  {
   "cell_type": "code",
   "execution_count": 2,
   "id": "00fa2c0a-cdfb-43a9-b205-d39682b82b38",
   "metadata": {},
   "outputs": [
    {
     "name": "stdin",
     "output_type": "stream",
     "text": [
      "Enter angle one:  90\n",
      "Enter angle two:  90\n",
      "Enter angle three:  90\n",
      "Enter angle four:  90\n",
      "Enter side one length:  5\n",
      "Enter side two length:  6\n",
      "Enter side three length:  4\n",
      "Enter side four length:  3\n"
     ]
    },
    {
     "name": "stdout",
     "output_type": "stream",
     "text": [
      "Rectangle quaderateral...\n"
     ]
    }
   ],
   "source": [
    "angle1 = float(input(\"Enter angle one: \"))\n",
    "angle2 = float(input(\"Enter angle two: \"))\n",
    "angle3 = float(input(\"Enter angle three: \"))\n",
    "angle4 = float(input(\"Enter angle four: \"))\n",
    "side1 = float(input(\"Enter side one length: \"))\n",
    "side2 = float(input(\"Enter side two length: \"))\n",
    "side3 = float(input(\"Enter side three length: \"))\n",
    "side4 = float(input(\"Enter side four length: \"))\n",
    "if angle1 + angle2 +  angle3 + angle4 == 360:\n",
    "    if angle1 ==90 and angle2 ==90 and angle3 ==90 and angle4 ==90:\n",
    "        if side1 == side2 == side3 ==side4:\n",
    "            print('Square quaderateral...')\n",
    "        else:\n",
    "            print('Rectangle quaderateral...')\n",
    "    elif side1 == side3 and side2 == side4:\n",
    "        if angle1 == angle3 and angle2 == angle4:\n",
    "            print('Parallelogram quaderateral...')\n",
    "        else:\n",
    "            print(\"General parallerogram...\")\n",
    "    else:\n",
    "        if side1 == side2 == side3 == side4:\n",
    "            print('Quaderateral is Rhombos...')\n",
    "        else:\n",
    "            print('Trapezium or other  type...')\n",
    "else:\n",
    "    print('It  is not Quaderateral...')        "
   ]
  },
  {
   "cell_type": "code",
   "execution_count": null,
   "id": "61968d2b-930b-4ea4-93e9-4547760b2116",
   "metadata": {},
   "outputs": [],
   "source": [
    "29. Write a Python script to determine the season based on a user-provided month using elif statements."
   ]
  },
  {
   "cell_type": "code",
   "execution_count": 4,
   "id": "fd805703-2048-4050-860e-c6683fddd8f4",
   "metadata": {},
   "outputs": [
    {
     "name": "stdin",
     "output_type": "stream",
     "text": [
      "Enter a month:  January\n"
     ]
    },
    {
     "name": "stdout",
     "output_type": "stream",
     "text": [
      "Winter is calling....\n"
     ]
    }
   ],
   "source": [
    "month = input('Enter a month: ')\n",
    "if month in ['Feburary', 'march','April','May']:\n",
    "    print('Summer calling....')\n",
    "elif month in ['June','July','August','Sepetamber']:\n",
    "    print('Mansoon is calling....')\n",
    "elif month in ['Octomber','November','December','January']:\n",
    "    print('Winter is calling....')\n",
    "else:\n",
    "    print('Enter correct month....')"
   ]
  },
  {
   "cell_type": "code",
   "execution_count": null,
   "id": "60d46073-56cd-46ed-977d-526a0de9d4a1",
   "metadata": {},
   "outputs": [],
   "source": [
    "30. Implement a program to determine the type of a year (leap or common) and month (30 or 31 days) using\n",
    "elif statements."
   ]
  },
  {
   "cell_type": "code",
   "execution_count": 11,
   "id": "cd975a98-4bdd-4efc-b6bc-e1b1573b8a1f",
   "metadata": {},
   "outputs": [
    {
     "name": "stdin",
     "output_type": "stream",
     "text": [
      "Enter the year:  2003\n"
     ]
    },
    {
     "name": "stdout",
     "output_type": "stream",
     "text": [
      "It is common year...\n",
      "\n",
      "    January = 31\n",
      "    Feburary = 28 \n",
      "    March = 31\n",
      "    April = 30\n",
      "    May = 31\n",
      "    June = 30\n",
      "    July = 31\n",
      "    August = 31\n",
      "    Sepetember = 30\n",
      "    Octomber = 31\n",
      "    November = 30\n",
      "    December = 31\n"
     ]
    }
   ],
   "source": [
    "year =int (input('Enter the year: '))\n",
    "if year % 4 == 0:\n",
    "    print('It is leap year...')\n",
    "    print('''\n",
    "    January = 31\n",
    "    Feburary = 29 \n",
    "    March = 31\n",
    "    April = 30\n",
    "    May = 31\n",
    "    June = 30\n",
    "    July = 31\n",
    "    August = 31\n",
    "    Sepetember = 30\n",
    "    Octomber = 31\n",
    "    November = 30\n",
    "    December = 31''' )\n",
    "else:\n",
    "    print('It is common year...')\n",
    "    print('''\n",
    "    January = 31\n",
    "    Feburary = 28 \n",
    "    March = 31\n",
    "    April = 30\n",
    "    May = 31\n",
    "    June = 30\n",
    "    July = 31\n",
    "    August = 31\n",
    "    Sepetember = 30\n",
    "    Octomber = 31\n",
    "    November = 30\n",
    "    December = 31''' )"
   ]
  },
  {
   "cell_type": "code",
   "execution_count": null,
   "id": "0af4fbd7-77be-4a16-b9af-959d90922760",
   "metadata": {},
   "outputs": [],
   "source": [
    "1. Write a Python program that checks if a given number is positive, negative, or zero."
   ]
  },
  {
   "cell_type": "code",
   "execution_count": 3,
   "id": "f4ac0ffc-3be8-485d-a7a4-ab43c7befd88",
   "metadata": {},
   "outputs": [
    {
     "name": "stdin",
     "output_type": "stream",
     "text": [
      "Enter the number:  8\n"
     ]
    },
    {
     "name": "stdout",
     "output_type": "stream",
     "text": [
      "Number is positive...\n"
     ]
    }
   ],
   "source": [
    "number = int(input('Enter the number: '))\n",
    "if number == 0:\n",
    "    print('Number is zero...')\n",
    "elif number > 0:\n",
    "    print('Number is positive...')\n",
    "else:\n",
    "    print('Number is negative...')"
   ]
  },
  {
   "cell_type": "code",
   "execution_count": null,
   "id": "50cbd05d-6538-4988-82d8-23333a4eb68b",
   "metadata": {},
   "outputs": [],
   "source": [
    "2. Create a program to determine if a person is eligible to vote based on their age."
   ]
  },
  {
   "cell_type": "code",
   "execution_count": 6,
   "id": "5b50f737-bfff-4f17-b3d3-3ae78a2058e3",
   "metadata": {},
   "outputs": [
    {
     "name": "stdin",
     "output_type": "stream",
     "text": [
      "Enter the age:  20\n"
     ]
    },
    {
     "name": "stdout",
     "output_type": "stream",
     "text": [
      "Eligible for vote...\n"
     ]
    }
   ],
   "source": [
    "age = int (input(\"Enter the age: \"))\n",
    "if age > 0:\n",
    "    if age >= 18:\n",
    "        print('Eligible for vote...')\n",
    "    else :\n",
    "        print(\"Not eligible for vote...\")\n",
    "else:\n",
    "    print('Enter valid age...')"
   ]
  },
  {
   "cell_type": "code",
   "execution_count": null,
   "id": "859ea3a6-6ccb-42d9-8262-b2674fab8b0f",
   "metadata": {},
   "outputs": [],
   "source": [
    "3. Write a program to find the maximum of two given numbers using conditional statements."
   ]
  },
  {
   "cell_type": "code",
   "execution_count": 7,
   "id": "cb560133-127a-413d-8451-f1ece07b92d2",
   "metadata": {},
   "outputs": [
    {
     "name": "stdin",
     "output_type": "stream",
     "text": [
      "Enter first number:  5\n",
      "Enter second number:  6\n"
     ]
    },
    {
     "name": "stdout",
     "output_type": "stream",
     "text": [
      "Second number is greter...\n"
     ]
    }
   ],
   "source": [
    "no1 = int (input('Enter first number: '))\n",
    "no2 = int (input('Enter second number: '))\n",
    "if no1 == no2:\n",
    "    print('Both number are same...')\n",
    "elif no1 > no2:\n",
    "    print('First number is greter...')\n",
    "else:\n",
    "    print('Second number is greter...')"
   ]
  },
  {
   "cell_type": "code",
   "execution_count": null,
   "id": "9d818485-8dfe-45a9-9a97-dff4ec112731",
   "metadata": {},
   "outputs": [],
   "source": [
    "4. Develop a program that calculates the grade of a student based on their exam score."
   ]
  },
  {
   "cell_type": "code",
   "execution_count": 17,
   "id": "5e7198e7-d8e6-412c-a06b-b95fc490f34d",
   "metadata": {},
   "outputs": [
    {
     "name": "stdin",
     "output_type": "stream",
     "text": [
      "Enter the marks:  100\n"
     ]
    },
    {
     "name": "stdout",
     "output_type": "stream",
     "text": [
      "Distinction...\n"
     ]
    }
   ],
   "source": [
    "marks =int (input('Enter the marks: '))\n",
    "if marks <=100 and marks >= 75:\n",
    "    print('Distinction...')\n",
    "elif marks <75 and marks >=50:\n",
    "    print('B Grade...')\n",
    "elif marks >= 35 and marks < 50:\n",
    "    print('pass')\n",
    "elif marks >0 and marks <35:\n",
    "    print('Fail')\n",
    "else:\n",
    "    print('Invalid marks')"
   ]
  },
  {
   "cell_type": "code",
   "execution_count": null,
   "id": "44e0172d-d2c6-4e86-b0b0-af560248b353",
   "metadata": {},
   "outputs": [],
   "source": [
    "5. Create a program that checks if a year is a leap year or not."
   ]
  },
  {
   "cell_type": "code",
   "execution_count": 18,
   "id": "b8792b28-b105-4772-9e68-f259632049a8",
   "metadata": {},
   "outputs": [
    {
     "name": "stdin",
     "output_type": "stream",
     "text": [
      "Enter the year you want to check:  2000\n"
     ]
    },
    {
     "name": "stdout",
     "output_type": "stream",
     "text": [
      "Leap year...\n"
     ]
    }
   ],
   "source": [
    "year = int(input('Enter the year you want to check: '))\n",
    "if year % 4 == 0:\n",
    "    print('Leap year...')\n",
    "else:\n",
    "    print('Not leap year...')"
   ]
  },
  {
   "cell_type": "code",
   "execution_count": null,
   "id": "fa4437e8-55f0-46ad-9bfd-4ac99ac90b44",
   "metadata": {},
   "outputs": [],
   "source": [
    "6. Write a program to classify a triangle based on its sides' lengths."
   ]
  },
  {
   "cell_type": "code",
   "execution_count": 22,
   "id": "18ffff41-2e8a-49df-be47-941bd56cbc2b",
   "metadata": {},
   "outputs": [
    {
     "name": "stdout",
     "output_type": "stream",
     "text": [
      "All side different...\n"
     ]
    }
   ],
   "source": [
    "s1 = 30\n",
    "s2 = 3000\n",
    "s3 = 300\n",
    "if s1 == s2 == s3:\n",
    "    print('All sides are equal...')\n",
    "elif s1 == s2 or s2 == s3 or s3 == s1:\n",
    "    print('Two sides are equal...')\n",
    "else:\n",
    "    print('All side different...')"
   ]
  },
  {
   "cell_type": "code",
   "execution_count": null,
   "id": "90589167-ac30-4363-8dff-0a95b510c091",
   "metadata": {},
   "outputs": [],
   "source": [
    "7. Build a program that determines the largest of three given numbers."
   ]
  },
  {
   "cell_type": "code",
   "execution_count": 3,
   "id": "79ce4996-c31b-4202-b47b-d1929fdcdd2f",
   "metadata": {},
   "outputs": [
    {
     "name": "stdin",
     "output_type": "stream",
     "text": [
      "Enter a number:  1\n",
      "Enter a number:  2\n",
      "Enter a number:  3\n"
     ]
    },
    {
     "name": "stdout",
     "output_type": "stream",
     "text": [
      "Number 3 is greater...\n"
     ]
    }
   ],
   "source": [
    "no1 = int(input('Enter a number: '))\n",
    "no2 = int(input('Enter a number: '))\n",
    "no3 = int(input('Enter a number: '))\n",
    "if no1 > no2 and no1 > no3:\n",
    "    print('Number 1 is greter...')\n",
    "elif no2 > no3 and no2 > no1:\n",
    "    print('Number 2 is greater...')\n",
    "else:\n",
    "    print('Number 3 is greater...')"
   ]
  },
  {
   "cell_type": "code",
   "execution_count": null,
   "id": "350c2d4d-375a-4e19-a05f-ec5ab3bd308f",
   "metadata": {},
   "outputs": [],
   "source": [
    "8. Develop a program that checks whether a character is a vowel or a consonant."
   ]
  },
  {
   "cell_type": "code",
   "execution_count": 5,
   "id": "82a2cf16-162f-478f-93eb-85f71ff336cb",
   "metadata": {},
   "outputs": [
    {
     "name": "stdin",
     "output_type": "stream",
     "text": [
      "Enter a character you want to check:  a\n"
     ]
    },
    {
     "name": "stdout",
     "output_type": "stream",
     "text": [
      "It is vowel...\n"
     ]
    }
   ],
   "source": [
    "character = input('Enter a character you want to check: ')\n",
    "vowels = 'aeiouAEIOU'\n",
    "if character in vowels:\n",
    "    print('It is vowel...')\n",
    "else:\n",
    "    print('It is consonant...')"
   ]
  },
  {
   "cell_type": "code",
   "execution_count": null,
   "id": "a3cb97e0-1ee0-45ba-bebb-8200752c06c4",
   "metadata": {},
   "outputs": [],
   "source": [
    "9. Create a program to calculate the total cost of a shopping cart based on discounts."
   ]
  },
  {
   "cell_type": "code",
   "execution_count": 10,
   "id": "8c12a8c2-da62-48b3-97f4-fb53f1a85d22",
   "metadata": {},
   "outputs": [
    {
     "name": "stdin",
     "output_type": "stream",
     "text": [
      "Enter shoping amount:  500\n"
     ]
    },
    {
     "name": "stdout",
     "output_type": "stream",
     "text": [
      "500\n"
     ]
    }
   ],
   "source": [
    "cost = int(input('Enter shoping amount: '))\n",
    "if cost >= 10000:\n",
    "    dis = 35\n",
    "    total = (cost*dis)/100\n",
    "    amount = cost - total\n",
    "    print('Price is: ',amount)\n",
    "elif cost >= 5000:\n",
    "    dis = 20\n",
    "    total = (cost*dis)/100\n",
    "    amount = cost - total\n",
    "    print('Price is: ',amount)\n",
    "elif cost >= 1000:\n",
    "    dis = 5\n",
    "    total = (cost * dis)/100\n",
    "    amount = cost - total\n",
    "    print('Price is: ',amount)\n",
    "else:\n",
    "    print(cost)"
   ]
  },
  {
   "cell_type": "code",
   "execution_count": null,
   "id": "91957b6f-2a24-4c78-9487-ad67a510330d",
   "metadata": {},
   "outputs": [],
   "source": [
    "10. Write a program that checks if a given number is even or odd."
   ]
  },
  {
   "cell_type": "code",
   "execution_count": 2,
   "id": "93c8b9d4-ea38-4d52-a704-4e245b17a0c3",
   "metadata": {},
   "outputs": [
    {
     "name": "stdin",
     "output_type": "stream",
     "text": [
      "Enter the number:  7\n"
     ]
    },
    {
     "name": "stdout",
     "output_type": "stream",
     "text": [
      "Odd number...\n"
     ]
    }
   ],
   "source": [
    "no = int(input('Enter the number: '))\n",
    "if no % 2 == 0:\n",
    "    print('Even number...')\n",
    "else:\n",
    "    print('Odd number...')"
   ]
  },
  {
   "cell_type": "code",
   "execution_count": null,
   "id": "1c6006b1-ee21-4596-9f1a-2d401364e361",
   "metadata": {},
   "outputs": [],
   "source": [
    "11. Write a program that calculates the roots of a quadratic equation"
   ]
  },
  {
   "cell_type": "code",
   "execution_count": null,
   "id": "6084e43d-2ac9-42f4-bd97-4a5f963f364b",
   "metadata": {},
   "outputs": [],
   "source": []
  },
  {
   "cell_type": "code",
   "execution_count": null,
   "id": "b4d33646-6024-4245-a248-b0f1818d2f09",
   "metadata": {},
   "outputs": [],
   "source": []
  }
 ],
 "metadata": {
  "kernelspec": {
   "display_name": "Python 3 (ipykernel)",
   "language": "python",
   "name": "python3"
  },
  "language_info": {
   "codemirror_mode": {
    "name": "ipython",
    "version": 3
   },
   "file_extension": ".py",
   "mimetype": "text/x-python",
   "name": "python",
   "nbconvert_exporter": "python",
   "pygments_lexer": "ipython3",
   "version": "3.10.8"
  }
 },
 "nbformat": 4,
 "nbformat_minor": 5
}
